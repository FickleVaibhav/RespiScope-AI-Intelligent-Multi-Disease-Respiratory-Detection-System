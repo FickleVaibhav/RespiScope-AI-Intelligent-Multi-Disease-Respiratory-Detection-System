{
 "cells": [
  {
   "cell_type": "markdown",
   "metadata": {},
   "source": [
    "# RespiScope-AI: Exploratory Data Analysis\n",
    "\n",
    "This notebook performs comprehensive EDA on the ICBHI respiratory sound dataset.\n",
    "\n",
    "## Contents\n",
    "1. Dataset Overview\n",
    "2. Class Distribution\n",
    "3. Audio Characteristics\n",
    "4. Spectrogram Analysis\n",
    "5. Quality Metrics\n",
    "6. Recommendations"
   ]
  },
  {
   "cell_type": "code",
   "execution_count": null,
   "metadata": {},
   "outputs": [],
   "source": [
    "import numpy as np\n",
    "import pandas as pd\n",
    "import matplotlib.pyplot as plt\n",
    "import seaborn as sns\n",
    "import librosa\n",
    "import librosa.display\n",
    "from pathlib import Path\n",
    "import warnings\n",
    "warnings.filterwarnings('ignore')\n",
    "\n",
    "# Set style\n",
    "sns.set_style('whitegrid')\n",
    "plt.rcParams['figure.figsize'] = (12, 6)\n",
    "\n",
    "print('✓ Libraries imported')"
   ]
  },
  {
   "cell_type": "markdown",
   "metadata": {},
   "source": [
    "## 1. Dataset Overview"
   ]
  },
  {
   "cell_type": "code",
   "execution_count": null,
   "metadata": {},
   "outputs": [],
   "source": [
    "# Load metadata\n",
    "metadata_path = '../data/processed/processed_metadata.csv'\n",
    "df = pd.read_csv(metadata_path)\n",
    "\n",
    "print(f\"Total samples: {len(df)}\")\n",
    "print(f\"\\nColumns: {list(df.columns)}\")\n",
    "print(f\"\\nFirst few rows:\")\n",
    "df.head()"
   ]
  },
  {
   "cell_type": "markdown",
   "metadata": {},
   "source": [
    "## 2. Class Distribution"
   ]
  },
  {
   "cell_type": "code",
   "execution_count": null,
   "metadata": {},
   "outputs": [],
   "source": [
    "# Class distribution\n",
    "class_counts = df['class'].value_counts()\n",
    "\n",
    "fig, axes = plt.subplots(1, 2, figsize=(15, 5))\n",
    "\n",
    "# Bar plot\n",
    "class_counts.plot(kind='bar', ax=axes[0], color='steelblue')\n",
    "axes[0].set_title('Class Distribution (Count)', fontsize=14)\n",
    "axes[0].set_xlabel('Class')\n",
    "axes[0].set_ylabel('Count')\n",
    "axes[0].tick_params(axis='x', rotation=45)\n",
    "\n",
    "# Pie chart\n",
    "class_counts.plot(kind='pie', ax=axes[1], autopct='%1.1f%%', startangle=90)\n",
    "axes[1].set_title('Class Distribution (Percentage)', fontsize=14)\n",
    "axes[1].set_ylabel('')\n",
    "\n",
    "plt.tight_layout()\n",
    "plt.show()\n",
    "\n",
    "# Print statistics\n",
    "print(\"\\nClass Distribution:\")\n",
    "for cls, count in class_counts.items():\n",
    "    print(f\"  {cls}: {count} ({count/len(df)*100:.1f}%)\")\n",
    "\n",
    "# Imbalance ratio\n",
    "max_count = class_counts.max()\n",
    "min_count = class_counts.min()\n",
    "print(f\"\\nImbalance Ratio: {max_count/min_count:.2f}:1\")"
   ]
  },
  {
   "cell_type": "markdown",
   "metadata": {},
   "source": [
    "## 3. Audio Characteristics"
   ]
  },
  {
   "cell_type": "code",
   "execution_count": null,
   "metadata": {},
   "outputs": [],
   "source": [
    "# Duration distribution\n",
    "if 'duration' in df.columns:\n",
    "    fig, axes = plt.subplots(1, 2, figsize=(15, 5))\n",
    "    \n",
    "    # Histogram\n",
    "    axes[0].hist(df['duration'], bins=30, color='skyblue', edgecolor='black')\n",
    "    axes[0].set_title('Duration Distribution')\n",
    "    axes[0].set_xlabel('Duration (seconds)')\n",
    "    axes[0].set_ylabel('Count')\n",
    "    axes[0].axvline(df['duration'].mean(), color='red', linestyle='--', label='Mean')\n",
    "    axes[0].legend()\n",
    "    \n",
    "    # Box plot by class\n",
    "    df.boxplot(column='duration', by='class', ax=axes[1])\n",
    "    axes[1].set_title('Duration by Class')\n",
    "    axes[1].set_xlabel('Class')\n",
    "    axes[1].set_ylabel('Duration (seconds)')\n",
    "    plt.suptitle('')\n",
    "    \n",
    "    plt.tight_layout()\n",
    "    plt.show()\n",
    "    \n",
    "    print(f\"\\nDuration Statistics:\")\n",
    "    print(f\"  Mean: {df['duration'].mean():.2f}s\")\n",
    "    print(f\"  Median: {df['duration'].median():.2f}s\")\n",
    "    print(f\"  Std: {df['duration'].std():.2f}s\")\n",
    "    print(f\"  Min: {df['duration'].min():.2f}s\")\n",
    "    print(f\"  Max: {df['duration'].max():.2f}s\")"
   ]
  },
  {
   "cell_type": "markdown",
   "metadata": {},
   "source": [
    "## 4. Quality Metrics"
   ]
  },
  {
   "cell_type": "code",
   "execution_count": null,
   "metadata": {},
   "outputs": [],
   "source": [
    "# SNR distribution\n",
    "if 'snr_db' in df.columns:\n",
    "    fig, axes = plt.subplots(1, 2, figsize=(15, 5))\n",
    "    \n",
    "    # SNR histogram\n",
    "    axes[0].hist(df['snr_db'], bins=30, color='lightgreen', edgecolor='black')\n",
    "    axes[0].set_title('SNR Distribution')\n",
    "    axes[0].set_xlabel('SNR (dB)')\n",
    "    axes[0].set_ylabel('Count')\n",
    "    axes[0].axvline(20, color='red', linestyle='--', label='Threshold (20dB)')\n",
    "    axes[0].legend()\n",
    "    \n",
    "    # SNR by class\n",
    "    df.boxplot(column='snr_db', by='class', ax=axes[1])\n",
    "    axes[1].set_title('SNR by Class')\n",
    "    axes[1].set_xlabel('Class')\n",
    "    axes[1].set_ylabel('SNR (dB)')\n",
    "    plt.suptitle('')\n",
    "    \n",
    "    plt.tight_layout()\n",
    "    plt.show()\n",
    "    \n",
    "    # Quality statistics\n",
    "    quality_pass = df['quality_pass'].sum() if 'quality_pass' in df.columns else 0\n",
    "    print(f\"\\nQuality Statistics:\")\n",
    "    print(f\"  Passed quality check: {quality_pass}/{len(df)} ({quality_pass/len(df)*100:.1f}%)\")\n",
    "    print(f\"  Mean SNR: {df['snr_db'].mean():.2f} dB\")\n",
    "    print(f\"  Median SNR: {df['snr_db'].median():.2f} dB\")"
   ]
  },
  {
   "cell_type": "markdown",
   "metadata": {},
   "source": [
    "## 5. Sample Spectrograms"
   ]
  },
  {
   "cell_type": "code",
   "execution_count": null,
   "metadata": {},
   "outputs": [],
   "source": [
    "# Load and display sample spectrograms\n",
    "spec_dir = '../data/processed/spectrograms'\n",
    "\n",
    "fig, axes = plt.subplots(2, 2, figsize=(15, 10))\n",
    "axes = axes.flatten()\n",
    "\n",
    "# Get one sample from each class\n",
    "classes = df['class'].unique()[:4]\n",
    "\n",
    "for idx, cls in enumerate(classes):\n",
    "    sample = df[df['class'] == cls].iloc[0]\n",
    "    spec_path = Path(spec_dir) / sample['clip_filename']\n",
    "    \n",
    "    if spec_path.exists():\n",
    "        spec = np.load(spec_path)\n",
    "        \n",
    "        im = axes[idx].imshow(spec.T, aspect='auto', origin='lower', cmap='viridis')\n",
    "        axes[idx].set_title(f'{cls}', fontsize=12)\n",
    "        axes[idx].set_xlabel('Time')\n",
    "        axes[idx].set_ylabel('Mel Frequency')\n",
    "        plt.colorbar(im, ax=axes[idx])\n",
    "\n",
    "plt.tight_layout()\n",
    "plt.show()"
   ]
  },
  {
   "cell_type": "markdown",
   "metadata": {},
   "source": [
    "## 6. Recommendations\n",
    "\n",
    "Based on the analysis:\n",
    "\n",
    "1. **Class Imbalance**: Use focal loss and class weights\n",
    "2. **Duration Variance**: Extract fixed 3-second clips\n",
    "3. **Quality Issues**: Filter low SNR recordings\n",
    "4. **Data Augmentation**: Apply SpecAugment, mixup\n",
    "5. **Model Strategy**: Use ensemble of multiple folds"
   ]
  }
 ],
 "metadata": {
  "kernelspec": {
   "display_name": "Python 3",
   "language": "python",
   "name": "python3"
  },
  "language_info": {
   "codemirror_mode": {
    "name": "ipython",
    "version": 3
   },
   "file_extension": ".py",
   "mimetype": "text/x-python",
   "name": "python",
   "nbconvert_exporter": "python",
   "pygments_lexer": "ipython3",
   "version": "3.8.0"
  }
 },
 "nbformat": 4,
 "nbformat_minor": 4
}
